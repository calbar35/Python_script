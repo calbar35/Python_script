{
 "cells": [
  {
   "cell_type": "markdown",
   "id": "22d2d0f0-b47e-474a-855c-c7c63839e46e",
   "metadata": {},
   "source": [
    "## Python Linear Regresssion Assingment\n",
    "## BSGP 7020: Callie Barber"
   ]
  },
  {
   "cell_type": "markdown",
   "id": "daae79e2-cbe3-4140-95c9-95e6ae660d43",
   "metadata": {},
   "source": [
    "### Import pandas, sklearn and matplotlib"
   ]
  },
  {
   "cell_type": "code",
   "execution_count": 4,
   "id": "1bf981c8-ab00-495f-bab9-cd3a1696ce31",
   "metadata": {
    "tags": []
   },
   "outputs": [],
   "source": [
    "import pandas as pd\n",
    "from sklearn.linear_model import LinearRegression\n",
    "import matplotlib.pyplot as plt"
   ]
  },
  {
   "cell_type": "markdown",
   "id": "e9d45034-eb85-4cf6-8802-c7780ee3d749",
   "metadata": {},
   "source": [
    "### Set notebook variables"
   ]
  },
  {
   "cell_type": "code",
   "execution_count": 5,
   "id": "d2191cfe-d8f7-4c2a-ae56-3a508d9cb3b8",
   "metadata": {
    "tags": []
   },
   "outputs": [],
   "source": [
    "filename = \"regrex1.csv\""
   ]
  },
  {
   "cell_type": "markdown",
   "id": "c668579c-dcf3-460d-94ab-a0be2c3cdcc4",
   "metadata": {
    "tags": []
   },
   "source": [
    "### Use read_csv() to read regrex1.csv file "
   ]
  },
  {
   "cell_type": "code",
   "execution_count": 6,
   "id": "e8ab8556-5a78-4a38-9f27-d473caf6978f",
   "metadata": {
    "tags": []
   },
   "outputs": [
    {
     "data": {
      "text/html": [
       "<div>\n",
       "<style scoped>\n",
       "    .dataframe tbody tr th:only-of-type {\n",
       "        vertical-align: middle;\n",
       "    }\n",
       "\n",
       "    .dataframe tbody tr th {\n",
       "        vertical-align: top;\n",
       "    }\n",
       "\n",
       "    .dataframe thead th {\n",
       "        text-align: right;\n",
       "    }\n",
       "</style>\n",
       "<table border=\"1\" class=\"dataframe\">\n",
       "  <thead>\n",
       "    <tr style=\"text-align: right;\">\n",
       "      <th></th>\n",
       "      <th>y</th>\n",
       "      <th>x</th>\n",
       "    </tr>\n",
       "  </thead>\n",
       "  <tbody>\n",
       "    <tr>\n",
       "      <th>0</th>\n",
       "      <td>6.8102</td>\n",
       "      <td>9.8492</td>\n",
       "    </tr>\n",
       "    <tr>\n",
       "      <th>1</th>\n",
       "      <td>9.8437</td>\n",
       "      <td>11.1450</td>\n",
       "    </tr>\n",
       "    <tr>\n",
       "      <th>2</th>\n",
       "      <td>4.9767</td>\n",
       "      <td>5.1209</td>\n",
       "    </tr>\n",
       "    <tr>\n",
       "      <th>3</th>\n",
       "      <td>5.0006</td>\n",
       "      <td>8.1085</td>\n",
       "    </tr>\n",
       "    <tr>\n",
       "      <th>4</th>\n",
       "      <td>3.5047</td>\n",
       "      <td>3.5599</td>\n",
       "    </tr>\n",
       "    <tr>\n",
       "      <th>5</th>\n",
       "      <td>3.6419</td>\n",
       "      <td>1.9883</td>\n",
       "    </tr>\n",
       "    <tr>\n",
       "      <th>6</th>\n",
       "      <td>7.8725</td>\n",
       "      <td>15.5322</td>\n",
       "    </tr>\n",
       "    <tr>\n",
       "      <th>7</th>\n",
       "      <td>5.1442</td>\n",
       "      <td>7.5202</td>\n",
       "    </tr>\n",
       "    <tr>\n",
       "      <th>8</th>\n",
       "      <td>8.3883</td>\n",
       "      <td>14.0202</td>\n",
       "    </tr>\n",
       "    <tr>\n",
       "      <th>9</th>\n",
       "      <td>6.8204</td>\n",
       "      <td>7.5226</td>\n",
       "    </tr>\n",
       "    <tr>\n",
       "      <th>10</th>\n",
       "      <td>9.0185</td>\n",
       "      <td>14.3272</td>\n",
       "    </tr>\n",
       "    <tr>\n",
       "      <th>11</th>\n",
       "      <td>2.6148</td>\n",
       "      <td>3.8950</td>\n",
       "    </tr>\n",
       "    <tr>\n",
       "      <th>12</th>\n",
       "      <td>3.7367</td>\n",
       "      <td>1.8707</td>\n",
       "    </tr>\n",
       "    <tr>\n",
       "      <th>13</th>\n",
       "      <td>2.8651</td>\n",
       "      <td>0.8347</td>\n",
       "    </tr>\n",
       "    <tr>\n",
       "      <th>14</th>\n",
       "      <td>10.7469</td>\n",
       "      <td>18.3413</td>\n",
       "    </tr>\n",
       "    <tr>\n",
       "      <th>15</th>\n",
       "      <td>2.3710</td>\n",
       "      <td>1.6645</td>\n",
       "    </tr>\n",
       "    <tr>\n",
       "      <th>16</th>\n",
       "      <td>9.6653</td>\n",
       "      <td>17.0579</td>\n",
       "    </tr>\n",
       "    <tr>\n",
       "      <th>17</th>\n",
       "      <td>7.1926</td>\n",
       "      <td>9.2375</td>\n",
       "    </tr>\n",
       "    <tr>\n",
       "      <th>18</th>\n",
       "      <td>11.7833</td>\n",
       "      <td>21.0000</td>\n",
       "    </tr>\n",
       "    <tr>\n",
       "      <th>19</th>\n",
       "      <td>3.9537</td>\n",
       "      <td>3.5286</td>\n",
       "    </tr>\n",
       "    <tr>\n",
       "      <th>20</th>\n",
       "      <td>15.0000</td>\n",
       "      <td>25.0000</td>\n",
       "    </tr>\n",
       "    <tr>\n",
       "      <th>21</th>\n",
       "      <td>7.9152</td>\n",
       "      <td>9.9008</td>\n",
       "    </tr>\n",
       "    <tr>\n",
       "      <th>22</th>\n",
       "      <td>9.3368</td>\n",
       "      <td>17.5990</td>\n",
       "    </tr>\n",
       "    <tr>\n",
       "      <th>23</th>\n",
       "      <td>8.7587</td>\n",
       "      <td>13.8790</td>\n",
       "    </tr>\n",
       "    <tr>\n",
       "      <th>24</th>\n",
       "      <td>6.7813</td>\n",
       "      <td>10.8690</td>\n",
       "    </tr>\n",
       "    <tr>\n",
       "      <th>25</th>\n",
       "      <td>7.9924</td>\n",
       "      <td>12.6238</td>\n",
       "    </tr>\n",
       "    <tr>\n",
       "      <th>26</th>\n",
       "      <td>2.2806</td>\n",
       "      <td>0.9719</td>\n",
       "    </tr>\n",
       "    <tr>\n",
       "      <th>27</th>\n",
       "      <td>10.4050</td>\n",
       "      <td>14.4814</td>\n",
       "    </tr>\n",
       "    <tr>\n",
       "      <th>28</th>\n",
       "      <td>3.7891</td>\n",
       "      <td>2.1792</td>\n",
       "    </tr>\n",
       "    <tr>\n",
       "      <th>29</th>\n",
       "      <td>10.9067</td>\n",
       "      <td>18.4052</td>\n",
       "    </tr>\n",
       "  </tbody>\n",
       "</table>\n",
       "</div>"
      ],
      "text/plain": [
       "          y        x\n",
       "0    6.8102   9.8492\n",
       "1    9.8437  11.1450\n",
       "2    4.9767   5.1209\n",
       "3    5.0006   8.1085\n",
       "4    3.5047   3.5599\n",
       "5    3.6419   1.9883\n",
       "6    7.8725  15.5322\n",
       "7    5.1442   7.5202\n",
       "8    8.3883  14.0202\n",
       "9    6.8204   7.5226\n",
       "10   9.0185  14.3272\n",
       "11   2.6148   3.8950\n",
       "12   3.7367   1.8707\n",
       "13   2.8651   0.8347\n",
       "14  10.7469  18.3413\n",
       "15   2.3710   1.6645\n",
       "16   9.6653  17.0579\n",
       "17   7.1926   9.2375\n",
       "18  11.7833  21.0000\n",
       "19   3.9537   3.5286\n",
       "20  15.0000  25.0000\n",
       "21   7.9152   9.9008\n",
       "22   9.3368  17.5990\n",
       "23   8.7587  13.8790\n",
       "24   6.7813  10.8690\n",
       "25   7.9924  12.6238\n",
       "26   2.2806   0.9719\n",
       "27  10.4050  14.4814\n",
       "28   3.7891   2.1792\n",
       "29  10.9067  18.4052"
      ]
     },
     "execution_count": 6,
     "metadata": {},
     "output_type": "execute_result"
    }
   ],
   "source": [
    "dataset = pd.read_csv(filename)\n",
    "dataset.describe()\n",
    "dataset"
   ]
  },
  {
   "cell_type": "markdown",
   "id": "31dd9a04-a1a5-478a-a3da-b7f28902eacd",
   "metadata": {},
   "source": [
    "### Fitting Linear Regression to the Dataset"
   ]
  },
  {
   "cell_type": "code",
   "execution_count": 7,
   "id": "c815c712-bc16-4f2a-b26f-3f2e0cecd4c3",
   "metadata": {
    "tags": []
   },
   "outputs": [
    {
     "data": {
      "text/html": [
       "<style>#sk-container-id-1 {color: black;background-color: white;}#sk-container-id-1 pre{padding: 0;}#sk-container-id-1 div.sk-toggleable {background-color: white;}#sk-container-id-1 label.sk-toggleable__label {cursor: pointer;display: block;width: 100%;margin-bottom: 0;padding: 0.3em;box-sizing: border-box;text-align: center;}#sk-container-id-1 label.sk-toggleable__label-arrow:before {content: \"▸\";float: left;margin-right: 0.25em;color: #696969;}#sk-container-id-1 label.sk-toggleable__label-arrow:hover:before {color: black;}#sk-container-id-1 div.sk-estimator:hover label.sk-toggleable__label-arrow:before {color: black;}#sk-container-id-1 div.sk-toggleable__content {max-height: 0;max-width: 0;overflow: hidden;text-align: left;background-color: #f0f8ff;}#sk-container-id-1 div.sk-toggleable__content pre {margin: 0.2em;color: black;border-radius: 0.25em;background-color: #f0f8ff;}#sk-container-id-1 input.sk-toggleable__control:checked~div.sk-toggleable__content {max-height: 200px;max-width: 100%;overflow: auto;}#sk-container-id-1 input.sk-toggleable__control:checked~label.sk-toggleable__label-arrow:before {content: \"▾\";}#sk-container-id-1 div.sk-estimator input.sk-toggleable__control:checked~label.sk-toggleable__label {background-color: #d4ebff;}#sk-container-id-1 div.sk-label input.sk-toggleable__control:checked~label.sk-toggleable__label {background-color: #d4ebff;}#sk-container-id-1 input.sk-hidden--visually {border: 0;clip: rect(1px 1px 1px 1px);clip: rect(1px, 1px, 1px, 1px);height: 1px;margin: -1px;overflow: hidden;padding: 0;position: absolute;width: 1px;}#sk-container-id-1 div.sk-estimator {font-family: monospace;background-color: #f0f8ff;border: 1px dotted black;border-radius: 0.25em;box-sizing: border-box;margin-bottom: 0.5em;}#sk-container-id-1 div.sk-estimator:hover {background-color: #d4ebff;}#sk-container-id-1 div.sk-parallel-item::after {content: \"\";width: 100%;border-bottom: 1px solid gray;flex-grow: 1;}#sk-container-id-1 div.sk-label:hover label.sk-toggleable__label {background-color: #d4ebff;}#sk-container-id-1 div.sk-serial::before {content: \"\";position: absolute;border-left: 1px solid gray;box-sizing: border-box;top: 0;bottom: 0;left: 50%;z-index: 0;}#sk-container-id-1 div.sk-serial {display: flex;flex-direction: column;align-items: center;background-color: white;padding-right: 0.2em;padding-left: 0.2em;position: relative;}#sk-container-id-1 div.sk-item {position: relative;z-index: 1;}#sk-container-id-1 div.sk-parallel {display: flex;align-items: stretch;justify-content: center;background-color: white;position: relative;}#sk-container-id-1 div.sk-item::before, #sk-container-id-1 div.sk-parallel-item::before {content: \"\";position: absolute;border-left: 1px solid gray;box-sizing: border-box;top: 0;bottom: 0;left: 50%;z-index: -1;}#sk-container-id-1 div.sk-parallel-item {display: flex;flex-direction: column;z-index: 1;position: relative;background-color: white;}#sk-container-id-1 div.sk-parallel-item:first-child::after {align-self: flex-end;width: 50%;}#sk-container-id-1 div.sk-parallel-item:last-child::after {align-self: flex-start;width: 50%;}#sk-container-id-1 div.sk-parallel-item:only-child::after {width: 0;}#sk-container-id-1 div.sk-dashed-wrapped {border: 1px dashed gray;margin: 0 0.4em 0.5em 0.4em;box-sizing: border-box;padding-bottom: 0.4em;background-color: white;}#sk-container-id-1 div.sk-label label {font-family: monospace;font-weight: bold;display: inline-block;line-height: 1.2em;}#sk-container-id-1 div.sk-label-container {text-align: center;}#sk-container-id-1 div.sk-container {/* jupyter's `normalize.less` sets `[hidden] { display: none; }` but bootstrap.min.css set `[hidden] { display: none !important; }` so we also need the `!important` here to be able to override the default hidden behavior on the sphinx rendered scikit-learn.org. See: https://github.com/scikit-learn/scikit-learn/issues/21755 */display: inline-block !important;position: relative;}#sk-container-id-1 div.sk-text-repr-fallback {display: none;}</style><div id=\"sk-container-id-1\" class=\"sk-top-container\"><div class=\"sk-text-repr-fallback\"><pre>LinearRegression()</pre><b>In a Jupyter environment, please rerun this cell to show the HTML representation or trust the notebook. <br />On GitHub, the HTML representation is unable to render, please try loading this page with nbviewer.org.</b></div><div class=\"sk-container\" hidden><div class=\"sk-item\"><div class=\"sk-estimator sk-toggleable\"><input class=\"sk-toggleable__control sk-hidden--visually\" id=\"sk-estimator-id-1\" type=\"checkbox\" checked><label for=\"sk-estimator-id-1\" class=\"sk-toggleable__label sk-toggleable__label-arrow\">LinearRegression</label><div class=\"sk-toggleable__content\"><pre>LinearRegression()</pre></div></div></div></div></div>"
      ],
      "text/plain": [
       "LinearRegression()"
      ]
     },
     "execution_count": 7,
     "metadata": {},
     "output_type": "execute_result"
    }
   ],
   "source": [
    "model = LinearRegression()\n",
    "model.fit(dataset[['x']], dataset[['y']])\n",
    "LinearRegression\n",
    "LinearRegression()"
   ]
  },
  {
   "cell_type": "markdown",
   "id": "d98503bd-6432-4e1d-937f-69aa4fe762b6",
   "metadata": {},
   "source": [
    "### Visualizing the Linear Regression results\n",
    "### Scatter plot of original dataset\n",
    "### Linear model of dataset"
   ]
  },
  {
   "cell_type": "code",
   "execution_count": 9,
   "id": "f3e88777-f2b9-4bdd-a75e-b4c81290f95d",
   "metadata": {
    "tags": []
   },
   "outputs": [
    {
     "data": {
      "text/plain": [
       "Text(0, 0.5, 'y')"
      ]
     },
     "execution_count": 9,
     "metadata": {},
     "output_type": "execute_result"
    },
    {
     "data": {
      "image/png": "[encoded data removed]",
      "text/plain": [
       "<Figure size 640x480 with 1 Axes>"
      ]
     },
     "metadata": {},
     "output_type": "display_data"
    }
   ],
   "source": [
    "plt.plot(dataset[['x']], model.predict(dataset[['x']]), color = 'blue')\n",
    "plt.title('y vs x')\n",
    "plt.title('Linear model of y vs x')\n",
    "plt.xlabel('x')\n",
    "plt.ylabel('y')"
   ]
  },
  {
   "cell_type": "markdown",
   "id": "f97b35e0-4b77-4dcc-ad3e-93fd213ccefa",
   "metadata": {},
   "source": [
    "### Scatter plot of original dataset"
   ]
  },
  {
   "cell_type": "code",
   "execution_count": 11,
   "id": "cac42e98-b50e-4e5a-8c9e-b29944c18d57",
   "metadata": {
    "tags": []
   },
   "outputs": [
    {
     "data": {
      "text/plain": [
       "Text(0, 0.5, 'y')"
      ]
     },
     "execution_count": 11,
     "metadata": {},
     "output_type": "execute_result"
    },
    {
     "data": {
      "image/png": "[encoded data removed]",
      "text/plain": [
       "<Figure size 640x480 with 1 Axes>"
      ]
     },
     "metadata": {},
     "output_type": "display_data"
    }
   ],
   "source": [
    "plt.scatter(dataset[['x']], dataset[['y']], color = 'red')\n",
    "plt.title('y vs x')\n",
    "plt.title('Raw y vs x')\n",
    "plt.xlabel('x')\n",
    "plt.ylabel('y')"
   ]
  },
  {
   "cell_type": "markdown",
   "id": "6f1a33c8-31f2-4c66-8dc5-191c63f94618",
   "metadata": {},
   "source": [
    "### Combined plot"
   ]
  },
  {
   "cell_type": "code",
   "execution_count": 12,
   "id": "babb6e25-926e-4b62-b044-7e074747cddd",
   "metadata": {
    "tags": []
   },
   "outputs": [
    {
     "data": {
      "image/png": "[encoded data removed]",
      "text/plain": [
       "<Figure size 640x480 with 1 Axes>"
      ]
     },
     "metadata": {},
     "output_type": "display_data"
    }
   ],
   "source": [
    "plt.scatter(dataset[['x']], dataset[['y']], color = 'red')\n",
    "plt.plot(dataset[['x']], model.predict(dataset[['x']]), color = 'blue')\n",
    "plt.title('Linear model of y vs x')\n",
    "plt.xlabel('x')\n",
    "plt.ylabel('y')\n",
    "plt.show()"
   ]
  },
  {
   "cell_type": "code",
   "execution_count": null,
   "id": "978c8a4e-5b64-44c7-af50-26ebecdda1d8",
   "metadata": {},
   "outputs": [],
   "source": []
  }
 ],
 "metadata": {
  "kernelspec": {
   "display_name": "Python 3 (ipykernel)",
   "language": "python",
   "name": "python3"
  },
  "language_info": {
   "codemirror_mode": {
    "name": "ipython",
    "version": 3
   },
   "file_extension": ".py",
   "mimetype": "text/x-python",
   "name": "python",
   "nbconvert_exporter": "python",
   "pygments_lexer": "ipython3",
   "version": "3.9.16"
  }
 },
 "nbformat": 4,
 "nbformat_minor": 5
}
